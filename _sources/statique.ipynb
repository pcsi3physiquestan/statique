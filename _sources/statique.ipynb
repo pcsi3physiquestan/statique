{
 "cells": [
  {
   "cell_type": "markdown",
   "id": "c06fbc81",
   "metadata": {},
   "source": [
    "# Statique des fluides\n",
    "\n",
    "````{admonition} Compétences\n",
    ":class: tip\n",
    "\n",
    "* Distinguer le statut des forces de pression et des forces de pesanteur en terme de force volumique ou surfacique\n",
    "* Connaître les ordres de grandeurs des champs de pression dans le cas de l'océan et de l'atmosphère\n",
    "* Exprimer l'évolution de la pression avec l'altitude dans le cas d'un fluide incompressible et homogène et dans le cas de l'atmosphère isotherme dans le modèle du gaz parfait.\n",
    "* S'appuyer sur la loi d'évolution de la densité moléculaire de l'air dans le cas de l'atmosphère isotherme pour illustrer la signification du facteur de Boltzmann\n",
    "* Exprimer une surface élémentaire dans un système de coordonnées adaptées.\n",
    "* Utiliser les symétries pour déterminer la direction d'une résultante des forces de pression.\n",
    "* Evaluer une résultante des forces de pression.\n",
    "* Expliquer l'origine de la poussée d'Archimède.\n",
    "* Exploiter la loi d'Archimède\n",
    "* Exprimer l'équivalent volumique des forces de pression à l'aide du gradient.\n",
    "* Etablir l'équation locale de la statique des fluides.\n",
    "\n",
    "````"
   ]
  }
 ],
 "metadata": {
  "jupytext": {
   "encoding": "# -*- coding: utf-8 -*-",
   "formats": "ipynb,md:myst",
   "split_at_heading": true,
   "text_representation": {
    "extension": ".md",
    "format_name": "myst",
    "format_version": 0.13,
    "jupytext_version": "1.10.3"
   }
  },
  "kernelspec": {
   "display_name": "Python 3",
   "language": "python",
   "name": "python3"
  },
  "language_info": {
   "codemirror_mode": {
    "name": "ipython",
    "version": 3
   },
   "file_extension": ".py",
   "mimetype": "text/x-python",
   "name": "python",
   "nbconvert_exporter": "python",
   "pygments_lexer": "ipython3",
   "version": "3.9.15"
  },
  "source_map": [
   15
  ]
 },
 "nbformat": 4,
 "nbformat_minor": 5
}