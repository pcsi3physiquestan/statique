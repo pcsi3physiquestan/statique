{
 "cells": [
  {
   "cell_type": "markdown",
   "id": "infrared-parish",
   "metadata": {},
   "source": [
    "# Cas des fluides incompressibles\n",
    "\n",
    "````{note}\n",
    "Un fluide est __incompressible_ si sa masse volumique est la même quelques soient les conditions de pression.\n",
    "````\n",
    "\n",
    "## Equation barométrique\n",
    "\n",
    "````{margin}\n",
    "Il s'agit de profondeur soit la coordonnée verticale pour un axe pris vers le __bas__.\n",
    "````\n",
    "````{important} __Equation barométrique - Champ de pression pour un fluide incompressible__\n",
    "\n",
    "Dans un fluide incompressible de masse volumique $\\rho_0$ dans un champ de pesanteur d'intensité $g$, le champ de pression ne dépend que de la profondeur. La variation de pression $\\Delta P = P(h_2) - P(h_1)$ entre les __profondeurs__ $h_2$ et $h_1$ s'écrit:\n",
    "\n",
    "$$\n",
    "\\Delta P = P(h_2) - P(h_1) = \\rho_0 g (h_2 - h_1)\n",
    "$$\n",
    "````\n",
    "\n",
    "````{admonition} Démonstration\n",
    ":class: important\n",
    ">On applique l'équation fondamental de la dynamique avec $\\rho_0$ uniforme (on oriente l'axe z vers le bas et les axes x et y sont horizontaux):\n",
    ">\n",
    ">\\begin{equation}\n",
    "\\begin{cases}\n",
    "\\frac{\\partial P}{\\partial x} &= 0\\\\\n",
    "\\frac{\\partial P}{\\partial y} &= 0\\\\\n",
    "\\frac{\\partial P}{\\partial z} &= \\rho_0 g\\\\\n",
    "\\end{cases}\n",
    "\\end{equation}\n",
    ">Les deux premières équations permette de dire que le champ de pression ne dépend que de z. On peut donc réécrire P comme une fonction d'une seule variable $P(z)$ et la dérivée partielle suivant z devient une dérivée droite. En intégrant entre $z = h_1$ et $z = h_2$, il vient l'équation demandée (on rappelle que $\\rho_0$ est uniforme).\n",
    "````\n",
    "\n",
    "````{topic} Interprétation\n",
    "On peut remarquer à nouveau que la variation de pression correspond à $\\rho_0 g \\Delta h$, soit le poids, par unité de surface de la colonne de fluide se situant au dessus sur une hauteur $\\Delta h$.\n",
    "\n",
    "On remarquera aussi que le champ de pression ne varie pas à altitude constante __quelque soit la forme du fluide.__. Il suffit que les différentes parties du fluide communiquent.\n",
    "````"
   ]
  }
 ],
 "metadata": {
  "jupytext": {
   "encoding": "# -*- coding: utf-8 -*-",
   "formats": "ipynb,md:myst",
   "split_at_heading": true,
   "text_representation": {
    "extension": ".md",
    "format_name": "myst",
    "format_version": 0.13,
    "jupytext_version": "1.10.3"
   }
  },
  "kernelspec": {
   "display_name": "Python 3",
   "language": "python",
   "name": "python3"
  },
  "language_info": {
   "codemirror_mode": {
    "name": "ipython",
    "version": 3
   },
   "file_extension": ".py",
   "mimetype": "text/x-python",
   "name": "python",
   "nbconvert_exporter": "python",
   "pygments_lexer": "ipython3",
   "version": "3.9.2"
  },
  "source_map": [
   15
  ]
 },
 "nbformat": 4,
 "nbformat_minor": 5
}