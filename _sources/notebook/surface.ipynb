{
 "cells": [
  {
   "cell_type": "markdown",
   "id": "employed-reflection",
   "metadata": {},
   "source": [
    "# Préambule: Surfaces orientées\n",
    "\n",
    "## Vecteur surface\n",
    "\n",
    "````{admonition} Définition : Vecteur surface élémentaire\n",
    ":class: tip\n",
    "\n",
    "Soit une surface infinitésimale de surface dS, on peut orienté la surface, c'està-dire choisir un sens dans lequel la traversée de la surface est positif. On définit alors le vecteur surface $\\overrightarrow{dS}$ comme le vecteur de norme $dS$ orienté perpencidulairement à la surface et dirigé dans le sens d'orientation choisi de la surface.\n",
    "\n",
    "```{figure} ./images/mathematiques_surface_contour.jpg\n",
    ":name: fig_263\n",
    ":align: center\n",
    "```\n",
    "````\n",
    "\n",
    "````{admonition} Exemple : Expression d'un vecteur surface.\n",
    ":class: tip, dropdown\n",
    "\n",
    "Dans le cadre du programme, l'expression d'un vecteur surface élémentaire s'établira toujours simplement si l'on choisit correctement le système de coordonnées.\n",
    "\n",
    "Par exemple, si l'on considère un plan et une petite portion infinitésimale dS du plan, on va choisir de paramétrer ce plan avec un système de coordonnées cartésiennes (en choisissant par exemple l'axe Oz perpendiculaire au plan). Un élément de surface infinitésimal est alors un carré dont les côté sont les variations infinitésimales de x et y soit dx et dy. La surface vaut alors $dS = dx dy$.\n",
    "\n",
    "De la même manière, l'orientation du vecteur s'établira, dans le cadre du programme, suivant un seul vecteur de la base. Ici, il le vecteur normal au plan est le vecteur $\\pm \\overrightarrow{e_z}$. Nous reviendrons plus tard sur les convention d'orientation des surfaces. Ici, on peut choisir arbitrairement l'orientation. On écrira par exemple le vecteur surface $\\overrightarrow{dS} = dx dy \\overrightarrow{e_z}$.\n",
    "````\n",
    "\n",
    "__Notation infinitésimale__  \n",
    "Normalement, il faudrait noter $d^2S$ car il s'agit d'un double infinitésimale (produit de deux infinitésimaux comme on peut le voir sur l'exemple précédent). Par souci de simpification, on notera simplement dS. On retiendra que le fait que ce soit un double infinitésimal signifie que des surfaces infinitésimales, il faudra les sommer sur deux coordonnées: il s'agira d'une __intégrale double__. La méthode permettant de calculer une telle intégrale sera exposée plus tard.\n",
    "\n",
    "\n",
    "````{admonition} Définition : Vecteur surface\n",
    ":class: tip\n",
    "\n",
    "Si l'on considère une surface d'extension finie, on peut la découper en une multitude de surface infinitésimale $\\overrightarrow{dS}$. Le vecteur surface $\\overrightarrow{S}$ est alors la somme des vecteurs surfaces infinitésimaux:\n",
    "\n",
    "\\begin{equation}\n",
    "\\overrightarrow{S} = \\iint_{M \\in S} \\overrightarrow{dS}\n",
    "\\end{equation}\n",
    "Comme dit précédemment, il s'agit d'une intégrale double sur une surface. Nous verrons plus tard comment la calculer.\n",
    "\n",
    "````\n",
    "\n",
    "## Vecteur surface: Orientation\n",
    "\n",
    "````{admonition} Définition : Surface fermée et non fermée.\n",
    ":class: tip\n",
    "\n",
    "Une surface fermée est une surface qui divise l'espace en deux parties et où il est impossible de passer d'une partie à l'autre sans traverser la surface. On définit alors un intérieur et un extérieur.\n",
    "\n",
    "````\n",
    "\n",
    "__Convention d'orientation pour les surfaces fermées.__  \n",
    "Pour une surface fermée, on oriente par convention le vecteur surface vers l'extérieur.\n",
    "\n",
    "\n",
    "__Convention d'orientation d'une surface non fermée.__  \n",
    "Pour une surface non fermée, l'orientation de la surface est arbitraire sauf si l'on oriente le contour sur lequel s'appuie la surface. Ce cas ne sera traité qu'en fin d'année. Pour l'instant , on choisira arbitrairement (c'est-à-dire intelligement) l'orientation de la surface."
   ]
  }
 ],
 "metadata": {
  "jupytext": {
   "encoding": "# -*- coding: utf-8 -*-",
   "formats": "ipynb,md:myst",
   "split_at_heading": true,
   "text_representation": {
    "extension": ".md",
    "format_name": "myst",
    "format_version": 0.13,
    "jupytext_version": "1.10.3"
   }
  },
  "kernelspec": {
   "display_name": "Python 3",
   "language": "python",
   "name": "python3"
  },
  "language_info": {
   "codemirror_mode": {
    "name": "ipython",
    "version": 3
   },
   "file_extension": ".py",
   "mimetype": "text/x-python",
   "name": "python",
   "nbconvert_exporter": "python",
   "pygments_lexer": "ipython3",
   "version": "3.9.2"
  },
  "source_map": [
   15
  ]
 },
 "nbformat": 4,
 "nbformat_minor": 5
}