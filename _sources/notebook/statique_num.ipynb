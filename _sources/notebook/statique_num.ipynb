{
 "cells": [
  {
   "cell_type": "markdown",
   "id": "e778e4b7",
   "metadata": {},
   "source": [
    "---\n",
    "jupytext:\n",
    "  formats: ipynb,py:light,md:myst\n",
    "  text_representation:\n",
    "    extension: .md\n",
    "    format_name: myst\n",
    "    format_version: 0.13\n",
    "    jupytext_version: 1.10.3\n",
    "kernelspec:\n",
    "  display_name: Python 3\n",
    "  language: python\n",
    "  name: python3\n",
    "---\n",
    "\n",
    "# Méthodes numériques\n",
    "\n",
    "## Etude de l'atmosphère terrestre\n",
    "\n",
    "__But :__ étudier les variations de température et de pression dans l'atmosphère.\n",
    "\n",
    "### Modélisation de l'atmosphère\n",
    "Dans le cadre du modèle ISA (International Standard Atmosphere), l'atmosphère est divisée en différentes couches, au sein desquelles la température est supposée suivre une [loi affine](https://fr.wikipedia.org/w/index.php?title=Atmosphère_normalisée&oldid=181118275). La valeur du gradient vertical de température dans chacune de ces couches est normalisée."
   ]
  },
  {
   "cell_type": "code",
   "execution_count": 1,
   "id": "7dd0d54d",
   "metadata": {},
   "outputs": [
    {
     "data": {
      "text/html": [
       "<style type=\"text/css\">\n",
       "</style>\n",
       "<table id=\"T_b1264\">\n",
       "  <thead>\n",
       "    <tr>\n",
       "      <th class=\"blank level0\" >&nbsp;</th>\n",
       "      <th id=\"T_b1264_level0_col0\" class=\"col_heading level0 col0\" >Couche atmosphérique</th>\n",
       "      <th id=\"T_b1264_level0_col1\" class=\"col_heading level0 col1\" >Altitude de la base (km)</th>\n",
       "      <th id=\"T_b1264_level0_col2\" class=\"col_heading level0 col2\" >Gradient thermique vertical (K/km)</th>\n",
       "    </tr>\n",
       "  </thead>\n",
       "  <tbody>\n",
       "    <tr>\n",
       "      <th id=\"T_b1264_level0_row0\" class=\"row_heading level0 row0\" >0</th>\n",
       "      <td id=\"T_b1264_row0_col0\" class=\"data row0 col0\" >Troposphère</td>\n",
       "      <td id=\"T_b1264_row0_col1\" class=\"data row0 col1\" >0</td>\n",
       "      <td id=\"T_b1264_row0_col2\" class=\"data row0 col2\" >-6.5</td>\n",
       "    </tr>\n",
       "    <tr>\n",
       "      <th id=\"T_b1264_level0_row1\" class=\"row_heading level0 row1\" >1</th>\n",
       "      <td id=\"T_b1264_row1_col0\" class=\"data row1 col0\" >Tropopause</td>\n",
       "      <td id=\"T_b1264_row1_col1\" class=\"data row1 col1\" >11</td>\n",
       "      <td id=\"T_b1264_row1_col2\" class=\"data row1 col2\" >0</td>\n",
       "    </tr>\n",
       "    <tr>\n",
       "      <th id=\"T_b1264_level0_row2\" class=\"row_heading level0 row2\" >2</th>\n",
       "      <td id=\"T_b1264_row2_col0\" class=\"data row2 col0\" >Stratosphère</td>\n",
       "      <td id=\"T_b1264_row2_col1\" class=\"data row2 col1\" >20</td>\n",
       "      <td id=\"T_b1264_row2_col2\" class=\"data row2 col2\" >1.0</td>\n",
       "    </tr>\n",
       "    <tr>\n",
       "      <th id=\"T_b1264_level0_row3\" class=\"row_heading level0 row3\" >3</th>\n",
       "      <td id=\"T_b1264_row3_col0\" class=\"data row3 col0\" >Stratosphère</td>\n",
       "      <td id=\"T_b1264_row3_col1\" class=\"data row3 col1\" >32</td>\n",
       "      <td id=\"T_b1264_row3_col2\" class=\"data row3 col2\" >2.8</td>\n",
       "    </tr>\n",
       "    <tr>\n",
       "      <th id=\"T_b1264_level0_row4\" class=\"row_heading level0 row4\" >4</th>\n",
       "      <td id=\"T_b1264_row4_col0\" class=\"data row4 col0\" >Stratopause</td>\n",
       "      <td id=\"T_b1264_row4_col1\" class=\"data row4 col1\" >47</td>\n",
       "      <td id=\"T_b1264_row4_col2\" class=\"data row4 col2\" >0</td>\n",
       "    </tr>\n",
       "    <tr>\n",
       "      <th id=\"T_b1264_level0_row5\" class=\"row_heading level0 row5\" >5</th>\n",
       "      <td id=\"T_b1264_row5_col0\" class=\"data row5 col0\" >Mesosphère</td>\n",
       "      <td id=\"T_b1264_row5_col1\" class=\"data row5 col1\" >51</td>\n",
       "      <td id=\"T_b1264_row5_col2\" class=\"data row5 col2\" >-2.8</td>\n",
       "    </tr>\n",
       "    <tr>\n",
       "      <th id=\"T_b1264_level0_row6\" class=\"row_heading level0 row6\" >6</th>\n",
       "      <td id=\"T_b1264_row6_col0\" class=\"data row6 col0\" >Mesosphère</td>\n",
       "      <td id=\"T_b1264_row6_col1\" class=\"data row6 col1\" >71</td>\n",
       "      <td id=\"T_b1264_row6_col2\" class=\"data row6 col2\" >-2.0</td>\n",
       "    </tr>\n",
       "    <tr>\n",
       "      <th id=\"T_b1264_level0_row7\" class=\"row_heading level0 row7\" >7</th>\n",
       "      <td id=\"T_b1264_row7_col0\" class=\"data row7 col0\" >Mesopause</td>\n",
       "      <td id=\"T_b1264_row7_col1\" class=\"data row7 col1\" >85</td>\n",
       "      <td id=\"T_b1264_row7_col2\" class=\"data row7 col2\" >NA</td>\n",
       "    </tr>\n",
       "  </tbody>\n",
       "</table>\n"
      ],
      "text/plain": [
       "<pandas.io.formats.style.Styler at 0x237de4ce6d0>"
      ]
     },
     "execution_count": 1,
     "metadata": {},
     "output_type": "execute_result"
    }
   ],
   "source": [
    "import numpy as np\n",
    "import matplotlib.pyplot as plt\n",
    "import pandas as pd  # Pour l'affichage des données\n",
    "\"\"\"Données normalisées pour chaque couche de l'atmosphère.\n",
    "Vous pourrez utiliser ces vecteurs par la suite.\n",
    "\"\"\"\n",
    "\n",
    "couche = [\"Troposphère\", \"Tropopause\", \"Stratosphère\", \"Stratosphère\", \"Stratopause\", \"Mesosphère\", \"Mesosphère\", \"Mesopause\"]\n",
    "altitude = [0, 11, 20, 32, 47, 51, 71, 85]\n",
    "gradient = [- 6.5, 0, + 1.0, + 2.8, 0, - 2.8, - 2.0, \"NA\"]  # Attention il faudrait traiter le dernier élément qui n'est pas un nombre.\n",
    "\n",
    "\"\"\"Affichage des données\n",
    "La syntaxe utilisée n'est pas à connaître.\n",
    "\"\"\"\n",
    "datas = pd.DataFrame({\n",
    "    \"Couche atmosphérique\" : couche,\n",
    "    \"Altitude de la base (km)\" : altitude,\n",
    "    \"Gradient thermique vertical (K/km)\" : [\"{:.1f}\".format(i)  if type(i)==float else i for i  in gradient]\n",
    "})\n",
    "\n",
    "datas.style"
   ]
  },
  {
   "cell_type": "markdown",
   "id": "eba82685",
   "metadata": {},
   "source": [
    "On propose ici de déterminer numériquement la loi de variation de la pression atmosphérique avec l'altitude $z$ dans le cadre du modèle ISA, en supposant que l'atmosphère est __un gaz parfait au repos__ dans le référentiel terrestre galiléen et en négligeant les variations de la pesanteur avec l'altitude. On fixe les valeurs de la température et de la pression au niveau du sol (en z = 0) respectivement à :\n",
    "\n",
    "$$\n",
    "\\begin{cases}\n",
    "T_{sol} &= 288 K\\\\\n",
    "P_{sol} &= 1.013 \\times 10^5 Pa\n",
    "\\end{cases}\n",
    "$$\n",
    "\n",
    "On utilisera les données obtenues pour étudier les  mouvements d'un ballon sonde."
   ]
  },
  {
   "cell_type": "markdown",
   "id": "5c1b0479",
   "metadata": {},
   "source": [
    "#### Données numériques\n",
    "On prend :\n",
    "\\begin{align}\n",
    "\\textrm{Accélération de la pesanteur} &:& g = 9.81 m.s^{-2}\\\\\n",
    "\\textrm{Masse molaire de l'air} &:& M_{air} = 29 g.mol^{-1}\\\\\n",
    "\\textrm{Constante des gaz parfaits} &:& R = 8.314 J.K^{-1}.mol^{-1}\n",
    "\\end{align}"
   ]
  },
  {
   "cell_type": "markdown",
   "id": "9849e785",
   "metadata": {},
   "source": [
    "### Mise en équation\n",
    "> 1. Montrer que si l'on suppose que l'air suit le modèle du gaz parfait. Alors les profils de pression et température doivent suivre le système d'équations suivantes :\n",
    "\n",
    "$$\n",
    "\\begin{cases}\n",
    "\\frac{\\rm{d}T}{\\rm{dz}}(z) &= k_{ISA}(z) \\\\\n",
    "\\frac{\\rm{d}P}{\\rm{dz}}(z) &= - {M_{air} g \\over RT(z)} \\times P(z)\n",
    "\\end{cases}\n",
    "$$\n",
    "\n",
    "avec \n",
    "\n",
    "$$\n",
    "\\begin{cases}\n",
    "T(z = 0) &= T_{sol} \\\\\n",
    "P(z = 0) &= P_{sol}\n",
    "\\end{cases}\n",
    "$$"
   ]
  },
  {
   "cell_type": "markdown",
   "id": "9140ca05",
   "metadata": {},
   "source": [
    "## Détermination du profil de pression et température\n",
    "\n",
    "__Attention aux unités m/km.__\n",
    "> __Exercice 1 :__  \n",
    "> 1. Ecrire une fonction `kISA` qui prend comme argument une altitude `z` et qui renvoie le gradient de température $k_{ISA}(z)$ associé. Pensez à utiliser les listes définies au début. _On supposera que l'altitude reste toujours inférieure à 85km, on ne s'occupera donc pas du cas de la Mésopause._\n",
    "> 2. Utiliser `odeint` (ou `solve_ivp`) pour déterminer le profil de température et de pression dans l'atmosphère.\n",
    "> 3. Tracer le profil de température et de pression dans l'atmosphère pour le modèle ISA.\n",
    "\n",
    "## Dimensionnement d'un ballon-sonde atmosphérique\n",
    "Les ballons-sonde stratosphériques constituent une solution simple et relativement économique pour envoyer une charge dans l'atmosphère. Équipés de capteurs divers, ils peuvent par exemple permettre de relever les valeurs de la pression, de la température, de l'humidité ou encore devitesse du vent dans les différentes couches de l'atmosphère traversées\n",
    "\n",
    "### Position du problème\n",
    "\n",
    "On considère ici un ballon-sonde stratosphérique \"ouvert\", constitué d'une enveloppe de volume $V$ ouverte sur l'extérieur par des manches d'évacuation situées à la base du ballon. Au moment du lancement, le ballon est gonflé à l'hélium ($M_{He} = 4,0 g.mol^{-1}$) ; l'enveloppe garde un volume constant tout au long de l'ascension. Le ballon étant ouvert à sa base, la pression à l'intérieur du ballon est identique à tout moment à la pression atmosphérique. La masse de l'ensemble { enveloppe (hors hélium) + nacelle + instruments embarqués } est $m = 10 kg$.\n",
    "\n",
    "> __Exercice 2 :__\n",
    "> On souhaite que le ballon atteigne une altitude $z_{max}$ choisie.\n",
    "> 1. Estimer le volume $V$ de l'enveloppe qui permet d'atteindre cette altitude puis le diamètre du ballon associé.\n",
    "> Vous devrez :\n",
    "> * Préciser la modélisation et le paramétrage du problème. On discutera notamment des hypothèses choisies.\n",
    "> * Tracer V et d en fonction de$z_{max}$.\n",
    "> * Estimer V et d pour $z_{max} = 36 km$ en procédant par dichotomie pour trouver l'indice donnant l'altitude la plus proche de $z_{max}$. Commenter la possibilité pour des amateurs de réaliser un tel ballon."
   ]
  }
 ],
 "metadata": {
  "jupytext": {
   "encoding": "# -*- coding: utf-8 -*-",
   "formats": "ipynb,md:myst",
   "split_at_heading": true,
   "text_representation": {
    "extension": ".md",
    "format_name": "myst",
    "format_version": 0.13,
    "jupytext_version": "1.10.3"
   }
  },
  "kernelspec": {
   "display_name": "Python 3",
   "language": "python",
   "name": "python3"
  },
  "language_info": {
   "codemirror_mode": {
    "name": "ipython",
    "version": 3
   },
   "file_extension": ".py",
   "mimetype": "text/x-python",
   "name": "python",
   "nbconvert_exporter": "python",
   "pygments_lexer": "ipython3",
   "version": "3.9.15"
  },
  "source_map": [
   15,
   39,
   61,
   74,
   84,
   105
  ]
 },
 "nbformat": 4,
 "nbformat_minor": 5
}