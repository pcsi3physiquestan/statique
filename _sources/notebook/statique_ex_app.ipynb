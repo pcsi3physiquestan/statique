{
 "cells": [
  {
   "cell_type": "markdown",
   "id": "balanced-nation",
   "metadata": {},
   "source": [
    "# Exercices d'application\n",
    "\n",
    "## Verrin hydraulique\n",
    "\n",
    "````{admonition} Exercice \n",
    ":class: attention\n",
    "\n",
    "On considère un verrin constitué d'un réservoir de section $S_1$ relié par le fond à un second réservoir de section $S_2 < S_1$. Deux plateaux de masses négligeables et de sections $S_1$ et $S_2$ ferment le réservoir de chaque côté et il est rempli d'eau.\n",
    "\n",
    "1. Au dessus de chaque plateau on trouve la même atmosphère. Quelle est la différence de hauteur entre les deux plateaux à l'équilibre?\n",
    "1. Les plateaux sont à l'équilibre et on pose sur le plateau $S_1$ une masse M. Quelle force F faut-il appliquer sur le plateau $S_2$ pour maintenir l'ensemble à l'équilibre. Commenter.\n",
    "\n",
    "\n",
    "````\n",
    "\n",
    "## Atmophère non isotherme\n",
    "\n",
    "````{admonition} Exercice \n",
    ":class: attention\n",
    "\n",
    "On assimile l'atmosphère à un gaz parfait et on suppose que le profil de température est $T(z) = T_0 (1 - \\alpha z)$ avec z l'altitude ($z=0$ au sol). Déterminer le champ de pression en supposant l'atmosphère au repos et le champ de pesanteur uniforme.\n",
    "\n",
    "````\n",
    "\n",
    "## Glaçon\n",
    "\n",
    "````{admonition} Exercice \n",
    ":class: attention\n",
    "\n",
    "Un glaçon flotte dans un verre d'eau. De quelle hauteur l'eau a monté quand le glaçon a complètement fondu.\n",
    "\n",
    "````"
   ]
  }
 ],
 "metadata": {
  "jupytext": {
   "encoding": "# -*- coding: utf-8 -*-",
   "formats": "ipynb,md:myst",
   "split_at_heading": true,
   "text_representation": {
    "extension": ".md",
    "format_name": "myst",
    "format_version": 0.13,
    "jupytext_version": "1.10.3"
   }
  },
  "kernelspec": {
   "display_name": "Python 3",
   "language": "python",
   "name": "python3"
  },
  "language_info": {
   "codemirror_mode": {
    "name": "ipython",
    "version": 3
   },
   "file_extension": ".py",
   "mimetype": "text/x-python",
   "name": "python",
   "nbconvert_exporter": "python",
   "pygments_lexer": "ipython3",
   "version": "3.9.2"
  },
  "source_map": [
   15
  ]
 },
 "nbformat": 4,
 "nbformat_minor": 5
}