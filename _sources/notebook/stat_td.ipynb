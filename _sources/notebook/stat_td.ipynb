{
 "cells": [
  {
   "cell_type": "markdown",
   "id": "870bd9b1",
   "metadata": {},
   "source": [
    "# Travaux dirigés\n",
    "\n",
    "## Baromètre différentiel\n",
    "\n",
    "````{admonition} Exercice \n",
    ":class: attention\n",
    "\n",
    "Un manomètre différentiel et constitué de 2 récipients cylindriques de sections $S_1$ et $S_2$ reliés par un tube de section intérieure $s$ constante. L'ensemble contient deux liquide incompressibles non miscibles: l'eau, de masse volumique $\\rho_0$ et l'aniline, de masse volumique $\\rho$. Initialement la pression au dessus des deux récipients est $P_0$.\n",
    "\n",
    "```{figure} ./images/Thermodynamique_TD2_EX1_1.jpg\n",
    ":name: fig_268\n",
    ":align: center\n",
    "\n",
    "```\n",
    "\n",
    "1. Déterminer une relation entre $H$ et $H_0$.\n",
    "1. On provoque au-dessus de l'eau une surpression $\\Delta P$. Déterminer le déplacement $\\Delta h$ de la surface de séparation entre l'eau et l'aniline dans le tube.\n",
    "1. Evaluer la sensibilité du manomètre: $\\frac{\\Delta h}{\\Delta P}$. Commenter.\n",
    "\n",
    "\n",
    "On donne: $\\rho_0 = 0.998 \\rm{g.cm^{-3}}; \\rho = 1.024 \\rm{g.cm^{-3}}; g = 9.81 \\rm{m.s^{-2}}; S_1 = S_2 = 100 s$\n",
    "\n",
    "````\n",
    "\n",
    "## Bille au fond d'un évier\n",
    "\n",
    "````{admonition} Exercice \n",
    ":class: attention\n",
    "\n",
    "Une sphère de bois de masse volumique $\\rho$ et de rayon R, de masse uniformément répartie est complètement immergée dans un bassin d'eau (de masse volumique $\\rho_e$) de profondeur $H$ de telle manière qu'elle bouche un trou circulaire de rayon $r$.\n",
    "\n",
    "```{figure} ./images/Thermodynamique_TD2_EX3_1.jpg\n",
    ":name: fig_269\n",
    ":align: center\n",
    "\n",
    "```\n",
    "\n",
    "1. Calculer la force qu'exerce la bille sur le fond du bassin.\n",
    "1. Si on baisse le niveau de l'eau dans le bassin, pour quelle hauteur d'eau la sphère va remonter à la surface en supposant qu'elle n'émerge pas encore au décollage? \n",
    "1. Cette configuration est-elle possible avec les données numériques ci-dessous?\n",
    "\n",
    "\n",
    "Données: $\\rho = 850 \\rm{km.m^{-3}}; \\rho_e = 1000 \\rm{kg.m^{-3}}; H=0.7 \\rm{m}; R =0.2 \\rm{m}; r = 0.1 \\rm{m}; g = 9.8 \\rm{m.s^{-2}}$\n",
    "\n",
    "````"
   ]
  }
 ],
 "metadata": {
  "jupytext": {
   "encoding": "# -*- coding: utf-8 -*-",
   "formats": "ipynb,md:myst",
   "split_at_heading": true,
   "text_representation": {
    "extension": ".md",
    "format_name": "myst",
    "format_version": 0.13,
    "jupytext_version": "1.10.3"
   }
  },
  "kernelspec": {
   "display_name": "Python 3",
   "language": "python",
   "name": "python3"
  },
  "language_info": {
   "codemirror_mode": {
    "name": "ipython",
    "version": 3
   },
   "file_extension": ".py",
   "mimetype": "text/x-python",
   "name": "python",
   "nbconvert_exporter": "python",
   "pygments_lexer": "ipython3",
   "version": "3.7.12"
  },
  "source_map": [
   15
  ]
 },
 "nbformat": 4,
 "nbformat_minor": 5
}